{
  "nbformat": 4,
  "nbformat_minor": 0,
  "metadata": {
    "colab": {
      "provenance": [],
      "authorship_tag": "ABX9TyOD5zMw17ulsOd9+1nw/ZN5",
      "include_colab_link": true
    },
    "kernelspec": {
      "name": "python3",
      "display_name": "Python 3"
    },
    "language_info": {
      "name": "python"
    }
  },
  "cells": [
    {
      "cell_type": "markdown",
      "metadata": {
        "id": "view-in-github",
        "colab_type": "text"
      },
      "source": [
        "<a href=\"https://colab.research.google.com/github/ggumarques/ChatBot-LLM/blob/main/ChatBot_LLM.ipynb\" target=\"_parent\"><img src=\"https://colab.research.google.com/assets/colab-badge.svg\" alt=\"Open In Colab\"/></a>"
      ]
    },
    {
      "cell_type": "code",
      "execution_count": 1,
      "metadata": {
        "id": "flQitCTIiOrC"
      },
      "outputs": [],
      "source": [
        "!pip install -q -U google-generativeai"
      ]
    },
    {
      "cell_type": "code",
      "source": [
        "import google.generativeai as genai\n",
        "from google.colab import userdata\n",
        "api_key = userdata.get('SECRET KEY')\n",
        "genai.configure(api_key=api_key)"
      ],
      "metadata": {
        "id": "gfe2HLnpk78H"
      },
      "execution_count": 2,
      "outputs": []
    },
    {
      "cell_type": "markdown",
      "source": [
        "Modelos disponíveis"
      ],
      "metadata": {
        "id": "qAp0SWrDl6mL"
      }
    },
    {
      "cell_type": "code",
      "source": [
        "for m in genai.list_models():\n",
        "  if 'generateContent' in m.supported_generation_methods:\n",
        "    print(m.name)"
      ],
      "metadata": {
        "colab": {
          "base_uri": "https://localhost:8080/",
          "height": 144
        },
        "id": "wDPP55ColDVo",
        "outputId": "89544c9a-53fb-4eaa-e1fd-f0720a9a06e8"
      },
      "execution_count": 3,
      "outputs": [
        {
          "output_type": "stream",
          "name": "stdout",
          "text": [
            "models/gemini-1.0-pro\n",
            "models/gemini-1.0-pro-001\n",
            "models/gemini-1.0-pro-latest\n",
            "models/gemini-1.0-pro-vision-latest\n",
            "models/gemini-1.5-pro-latest\n",
            "models/gemini-pro\n",
            "models/gemini-pro-vision\n"
          ]
        }
      ]
    },
    {
      "cell_type": "code",
      "source": [
        "generation_config = {\n",
        "    \"candidate_count\": 1,\n",
        "    \"temperature\": 0.5,\n",
        "}"
      ],
      "metadata": {
        "id": "EJahMfmymYKO"
      },
      "execution_count": 4,
      "outputs": []
    },
    {
      "cell_type": "code",
      "source": [
        "safety_settings = {\n",
        "    \"HARASSMENT\": \"BLOCK_NONE\",\n",
        "    \"HATE\": \"BLOCK_NONE\",\n",
        "    \"SEXUAL\": \"BLOCK_NONE\",\n",
        "    \"DANGEROUS\": \"BLOCK_NONE\",\n",
        "}"
      ],
      "metadata": {
        "id": "EvV8BT7nm5fn"
      },
      "execution_count": 5,
      "outputs": []
    },
    {
      "cell_type": "markdown",
      "source": [
        "Inicializando modelo"
      ],
      "metadata": {
        "id": "Ul_0Fl7lnwj6"
      }
    },
    {
      "cell_type": "code",
      "source": [
        "model = genai.GenerativeModel(model_name=\"gemini-1.0-pro\",\n",
        "                              generation_config=generation_config,\n",
        "                              safety_settings=safety_settings)"
      ],
      "metadata": {
        "id": "pR0Dq-sMn3l_"
      },
      "execution_count": 6,
      "outputs": []
    },
    {
      "cell_type": "code",
      "source": [
        "response = model.generate_content(\"Aprendendo Gemini AI com Alura.\")\n",
        "print(response.text)"
      ],
      "metadata": {
        "colab": {
          "base_uri": "https://localhost:8080/",
          "height": 1000
        },
        "id": "KJLjLUkbocaP",
        "outputId": "5a09ccd0-78fd-493c-8d8c-9e6b8292afcf"
      },
      "execution_count": 7,
      "outputs": [
        {
          "output_type": "stream",
          "name": "stdout",
          "text": [
            "**Introdução ao Curso de Gemini AI com Alura**\n",
            "\n",
            "**Objetivo:**\n",
            "\n",
            "* Aprender os fundamentos da Gemini AI, uma plataforma de inteligência artificial (IA) para desenvolvimento de aplicativos.\n",
            "\n",
            "**Pré-requisitos:**\n",
            "\n",
            "* Conhecimento básico de programação (por exemplo, Python)\n",
            "* Compreensão dos conceitos de IA\n",
            "\n",
            "**Conteúdo do Curso:**\n",
            "\n",
            "**Módulo 1: Introdução à Gemini AI**\n",
            "\n",
            "* O que é Gemini AI?\n",
            "* Benefícios e casos de uso\n",
            "* Arquitetura e componentes\n",
            "\n",
            "**Módulo 2: Criando e Treinando Modelos**\n",
            "\n",
            "* Tipos de modelos de IA\n",
            "* Processo de treinamento de modelos\n",
            "* Avaliação e otimização de modelos\n",
            "\n",
            "**Módulo 3: Implantando Modelos**\n",
            "\n",
            "* Opções de implantação\n",
            "* Integração com aplicativos\n",
            "* Monitoramento e manutenção\n",
            "\n",
            "**Módulo 4: Casos de Uso**\n",
            "\n",
            "* Análise de sentimentos\n",
            "* Processamento de linguagem natural\n",
            "* Visão computacional\n",
            "\n",
            "**Módulo 5: Projetos Práticos**\n",
            "\n",
            "* Desenvolvendo aplicativos de IA usando Gemini AI\n",
            "* Implementando modelos treinados em aplicativos reais\n",
            "\n",
            "**Recursos do Curso:**\n",
            "\n",
            "* Aulas em vídeo\n",
            "* Exercícios práticos\n",
            "* Fórum de discussão\n",
            "* Suporte ao aluno\n",
            "\n",
            "**Benefícios do Curso:**\n",
            "\n",
            "* Domínio dos fundamentos da Gemini AI\n",
            "* Capacidade de criar e treinar modelos de IA\n",
            "* Habilidade de implantar modelos em aplicativos\n",
            "* Compreensão dos casos de uso e aplicações práticas da IA\n",
            "\n",
            "**Público-alvo:**\n",
            "\n",
            "* Desenvolvedores de software\n",
            "* Cientistas de dados\n",
            "* Profissionais de IA\n",
            "* Qualquer pessoa interessada em aprender sobre Gemini AI\n"
          ]
        }
      ]
    },
    {
      "cell_type": "code",
      "source": [
        "chat = model.start_chat(history=[])"
      ],
      "metadata": {
        "id": "ev8nnZieovgg"
      },
      "execution_count": 8,
      "outputs": []
    },
    {
      "cell_type": "code",
      "source": [
        "prompt = input(\"Esperando input: \")\n",
        "\n",
        "while prompt != \"fim\":\n",
        "  response = chat.send_message(prompt)\n",
        "  print(\"Resposta: \", response.text, \"\\n\")\n",
        "  prompt = input(\"Esperando input: \")"
      ],
      "metadata": {
        "colab": {
          "base_uri": "https://localhost:8080/",
          "height": 90
        },
        "id": "PdDJtUQipATX",
        "outputId": "1396a819-285d-400e-d8ce-756105d461a8"
      },
      "execution_count": 9,
      "outputs": [
        {
          "name": "stdout",
          "output_type": "stream",
          "text": [
            "Esperando input: Oi, meu nome é Gustavo. Qual é meu nome?\n",
            "Resposta:  Gustavo \n",
            "\n",
            "Esperando input: fim\n"
          ]
        }
      ]
    },
    {
      "cell_type": "code",
      "source": [
        "chat"
      ],
      "metadata": {
        "colab": {
          "base_uri": "https://localhost:8080/"
        },
        "id": "3FvmhPfKq-n-",
        "outputId": "ef0aa01d-3a65-4a4b-a1f8-51ec2f3fb6aa"
      },
      "execution_count": 10,
      "outputs": [
        {
          "output_type": "execute_result",
          "data": {
            "text/plain": [
              "ChatSession(\n",
              "    model=genai.GenerativeModel(\n",
              "        model_name='models/gemini-1.0-pro',\n",
              "        generation_config={'candidate_count': 1, 'temperature': 0.5},\n",
              "        safety_settings={<HarmCategory.HARM_CATEGORY_HARASSMENT: 7>: <HarmBlockThreshold.BLOCK_NONE: 4>, <HarmCategory.HARM_CATEGORY_HATE_SPEECH: 8>: <HarmBlockThreshold.BLOCK_NONE: 4>, <HarmCategory.HARM_CATEGORY_SEXUALLY_EXPLICIT: 9>: <HarmBlockThreshold.BLOCK_NONE: 4>, <HarmCategory.HARM_CATEGORY_DANGEROUS_CONTENT: 10>: <HarmBlockThreshold.BLOCK_NONE: 4>},\n",
              "        tools=None,\n",
              "        system_instruction=None,\n",
              "    ),\n",
              "    history=[glm.Content({'parts': [{'text': 'Oi, meu nome...l é meu nome?'}], 'role': 'user'}), glm.Content({'parts': [{'text': 'Gustavo'}], 'role': 'model'})]\n",
              ")"
            ]
          },
          "metadata": {},
          "execution_count": 10
        }
      ]
    },
    {
      "cell_type": "code",
      "source": [
        "chat.history"
      ],
      "metadata": {
        "colab": {
          "base_uri": "https://localhost:8080/"
        },
        "id": "DoRgd979rD0T",
        "outputId": "c17669ec-588c-4582-b152-3b55e87efa8e"
      },
      "execution_count": 11,
      "outputs": [
        {
          "output_type": "execute_result",
          "data": {
            "text/plain": [
              "[parts {\n",
              "   text: \"Oi, meu nome \\303\\251 Gustavo. Qual \\303\\251 meu nome?\"\n",
              " }\n",
              " role: \"user\",\n",
              " parts {\n",
              "   text: \"Gustavo\"\n",
              " }\n",
              " role: \"model\"]"
            ]
          },
          "metadata": {},
          "execution_count": 11
        }
      ]
    },
    {
      "cell_type": "code",
      "source": [
        "#Melhorando a visualização\n",
        "#Código disponível em https://ai.google.dev/tutorials/python_quickstart#import_packages\n",
        "import textwrap\n",
        "from IPython.display import display\n",
        "from IPython.display import Markdown\n",
        "\n",
        "def to_markdown(text):\n",
        "  text = text.replace('•', '  *')\n",
        "  return Markdown(textwrap.indent(text, '> ', predicate=lambda _: True))\n",
        "\n",
        "#Imprimindo o histórico\n",
        "for message in chat.history:\n",
        "  display(to_markdown(f'**{message.role}**: {message.parts[0].text}'))\n",
        "  print('-------------------------------------------')"
      ],
      "metadata": {
        "colab": {
          "base_uri": "https://localhost:8080/",
          "height": 144
        },
        "id": "F2d2e1DMq7BJ",
        "outputId": "b5bc5da4-1346-450d-a414-193c3dd5923e"
      },
      "execution_count": 12,
      "outputs": [
        {
          "output_type": "display_data",
          "data": {
            "text/plain": [
              "<IPython.core.display.Markdown object>"
            ],
            "text/markdown": "> **user**: Oi, meu nome é Gustavo. Qual é meu nome?"
          },
          "metadata": {}
        },
        {
          "output_type": "stream",
          "name": "stdout",
          "text": [
            "-------------------------------------------\n"
          ]
        },
        {
          "output_type": "display_data",
          "data": {
            "text/plain": [
              "<IPython.core.display.Markdown object>"
            ],
            "text/markdown": "> **model**: Gustavo"
          },
          "metadata": {}
        },
        {
          "output_type": "stream",
          "name": "stdout",
          "text": [
            "-------------------------------------------\n"
          ]
        }
      ]
    }
  ]
}